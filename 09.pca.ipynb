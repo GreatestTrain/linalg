{
 "cells": [
  {
   "cell_type": "code",
   "execution_count": 2,
   "metadata": {},
   "outputs": [],
   "source": [
    "import numpy as np\n",
    "import matplotlib.pyplot as plt"
   ]
  },
  {
   "cell_type": "code",
   "execution_count": 3,
   "metadata": {},
   "outputs": [],
   "source": [
    "np.random.seed(42)"
   ]
  },
  {
   "cell_type": "code",
   "execution_count": 5,
   "metadata": {},
   "outputs": [
    {
     "data": {
      "text/plain": [
       "array([[3.09371607e-01, 6.52530226e+00],\n",
       "       [2.70765872e+00, 5.47103551e+01],\n",
       "       [1.51575712e+00, 3.06691633e+01],\n",
       "       [2.47937240e+00, 4.97648530e+01],\n",
       "       [9.60148803e-01, 1.94442478e+01],\n",
       "       [2.68656969e+00, 5.46529512e+01],\n",
       "       [1.16760504e+00, 2.37647682e+01],\n",
       "       [3.25129544e-02, 1.37879881e+00],\n",
       "       [2.71614593e+00, 5.53297531e+01],\n",
       "       [2.73860030e-01, 6.85799026e+00],\n",
       "       [9.57940913e-01, 1.92374425e+01],\n",
       "       [2.85018590e+00, 5.86025388e+01],\n",
       "       [2.85182144e+00, 5.82922296e+01],\n",
       "       [1.72031366e+00, 3.45697914e+01],\n",
       "       [1.89551164e+00, 3.96573900e+01],\n",
       "       [1.34533657e+00, 2.87484761e+01],\n",
       "       [8.79632315e-01, 1.77148022e+01],\n",
       "       [9.85993636e-01, 2.02736280e+01],\n",
       "       [2.01755537e+00, 4.19635099e+01],\n",
       "       [2.25712359e+00, 4.66389911e+01],\n",
       "       [2.37473713e+00, 4.78637847e+01],\n",
       "       [2.36885443e+00, 4.77957872e+01],\n",
       "       [2.73618309e-01, 6.21331039e+00],\n",
       "       [1.48326091e+00, 3.06342643e+01],\n",
       "       [1.72676280e-01, 4.69003514e+00],\n",
       "       [1.64858665e+00, 3.37095602e+01],\n",
       "       [1.32459150e+00, 2.74168995e+01],\n",
       "       [2.66311255e+00, 5.47571928e+01],\n",
       "       [1.05274504e+00, 2.11282672e+01],\n",
       "       [3.51201049e-01, 7.52889487e+00],\n",
       "       [4.28975046e-01, 1.00062001e+01],\n",
       "       [2.28453190e+00, 4.74810516e+01],\n",
       "       [1.85465419e+00, 3.81164387e+01],\n",
       "       [3.03368028e-01, 7.13158754e+00],\n",
       "       [2.52320418e-01, 5.26075239e+00],\n",
       "       [2.10290739e+00, 4.29529726e+01],\n",
       "       [2.18289019e-01, 5.43101491e+00],\n",
       "       [2.46558018e+00, 4.97965446e+01],\n",
       "       [2.11872668e+00, 4.29130201e+01],\n",
       "       [2.44046342e-01, 5.63549516e+00],\n",
       "       [2.54513142e-01, 5.13040524e+00],\n",
       "       [2.95991874e+00, 5.98425330e+01],\n",
       "       [1.12281239e+00, 2.28791438e+01],\n",
       "       [1.11192644e+00, 2.28935235e+01],\n",
       "       [2.43839870e+00, 4.90074983e+01],\n",
       "       [2.84174573e+00, 5.86159692e+01],\n",
       "       [2.95800319e+00, 6.03472487e+01],\n",
       "       [2.26013456e+00, 4.65608958e+01],\n",
       "       [1.12877876e+00, 2.41539176e+01],\n",
       "       [2.50502150e-01, 6.00692740e+00],\n",
       "       [2.33144075e+00, 4.68026555e+01],\n",
       "       [1.67521275e+00, 3.45784681e+01],\n",
       "       [1.27266603e+00, 2.66270028e+01],\n",
       "       [2.71906316e+00, 5.58721421e+01],\n",
       "       [3.33592447e-01, 7.53516803e+00],\n",
       "       [1.47787531e+00, 2.98126669e+01],\n",
       "       [3.40609343e-02, 1.24877050e+00],\n",
       "       [1.40598193e+00, 2.88458031e+01],\n",
       "       [1.68909827e-01, 4.67003102e+00],\n",
       "       [3.56453749e-01, 8.27063159e+00],\n",
       "       [3.52578740e-01, 7.76376826e+00],\n",
       "       [1.94763091e+00, 4.09256486e+01],\n",
       "       [2.23813464e+00, 4.59742424e+01],\n",
       "       [1.75010630e+00, 3.54765795e+01],\n",
       "       [2.88651765e+00, 5.79339179e+01],\n",
       "       [1.12461174e+00, 2.27979530e+01],\n",
       "       [8.57136259e-01, 1.76346406e+01],\n",
       "       [2.60579738e+00, 5.24373104e+01],\n",
       "       [6.70787516e-01, 1.37888844e+01],\n",
       "       [2.88966762e+00, 5.83635427e+01],\n",
       "       [3.64634241e-02, 1.07601567e+00],\n",
       "       [2.90963648e+00, 5.99862605e+01],\n",
       "       [1.29479736e-01, 2.75006221e+00],\n",
       "       [2.67342934e+00, 5.45176096e+01],\n",
       "       [1.58310333e+00, 3.24828602e+01],\n",
       "       [2.97889439e+00, 6.15426450e+01],\n",
       "       [2.21389694e-01, 4.65187169e+00],\n",
       "       [1.66156285e+00, 3.40269683e+01],\n",
       "       [2.90790761e+00, 6.00970930e+01],\n",
       "       [1.56929353e+00, 3.31168849e+01],\n",
       "       [1.88819591e+00, 3.93980624e+01],\n",
       "       [2.08724607e+00, 4.22607270e+01],\n",
       "       [1.36362319e+00, 2.76142391e+01],\n",
       "       [1.88267424e+00, 3.89907712e+01],\n",
       "       [1.75294294e+00, 3.69176107e+01],\n",
       "       [2.70347403e+00, 5.51830064e+01],\n",
       "       [1.36339141e-01, 3.87000820e+00],\n",
       "       [8.42889569e-01, 1.74177496e+01],\n",
       "       [2.85123445e+00, 5.85636749e+01],\n",
       "       [2.67079135e+00, 5.37899145e+01],\n",
       "       [1.36697026e+00, 2.79867636e+01],\n",
       "       [1.86039779e+00, 3.80588287e+01],\n",
       "       [8.32143549e-01, 1.76580917e+01],\n",
       "       [5.64363479e-01, 1.17720890e+01],\n",
       "       [1.39109521e+00, 2.80515779e+01],\n",
       "       [1.06005668e+00, 2.24223738e+01],\n",
       "       [1.75096834e+00, 3.55966278e+01],\n",
       "       [2.33203911e-01, 5.82655466e+00],\n",
       "       [2.92318442e+00, 5.87724139e+01],\n",
       "       [2.95863223e+00, 6.01349249e+01],\n",
       "       [2.09448514e+00, 4.29548817e+01],\n",
       "       [1.60828910e+00, 3.22694291e+01],\n",
       "       [9.28582849e-01, 1.92448655e+01],\n",
       "       [2.44138506e+00, 4.90965305e+01],\n",
       "       [2.05419352e+00, 4.12106203e+01],\n",
       "       [4.87850818e-01, 1.17369368e+01],\n",
       "       [2.73278155e+00, 5.53003388e+01],\n",
       "       [2.46761173e+00, 5.09719835e+01],\n",
       "       [2.84939974e+00, 5.74972761e+01],\n",
       "       [2.17715853e+00, 4.49061759e+01],\n",
       "       [1.84024559e+00, 3.83253675e+01],\n",
       "       [1.25472911e+00, 2.62858597e+01],\n",
       "       [2.79818545e+00, 5.69068614e+01],\n",
       "       [2.59819167e+00, 5.27875152e+01],\n",
       "       [1.35656010e-01, 3.41085674e+00],\n",
       "       [7.91009235e-02, 3.44107676e+00],\n",
       "       [1.12939010e+00, 2.42490408e+01],\n",
       "       [2.43165999e+00, 5.05632537e+01],\n",
       "       [2.96182839e+00, 5.94851622e+01],\n",
       "       [4.51250673e-01, 1.04867484e+01],\n",
       "       [1.78239215e+00, 3.75245238e+01],\n",
       "       [1.14267257e+00, 2.32159175e+01],\n",
       "       [2.90974319e+00, 5.83278564e+01],\n",
       "       [2.52635677e+00, 5.20093767e+01],\n",
       "       [2.51498611e+00, 5.14486685e+01],\n",
       "       [1.40607948e+00, 2.98052471e+01],\n",
       "       [1.24445851e+00, 2.51687149e+01],\n",
       "       [8.20221216e-01, 1.79949589e+01],\n",
       "       [1.69126490e-01, 3.78578444e+00],\n",
       "       [2.59416713e+00, 5.22106545e+01],\n",
       "       [2.43870303e+00, 4.91025921e+01],\n",
       "       [2.99915302e+00, 6.16122098e+01],\n",
       "       [2.98991051e+00, 6.11286047e+01],\n",
       "       [1.66629512e+00, 3.43720332e+01],\n",
       "       [2.30696225e+00, 4.68569059e+01],\n",
       "       [2.83429719e+00, 5.84403449e+01],\n",
       "       [2.54894217e+00, 5.17637337e+01],\n",
       "       [7.42044305e-01, 1.64740850e+01],\n",
       "       [1.35163241e+00, 2.79109179e+01],\n",
       "       [3.87478245e-01, 8.50345377e+00],\n",
       "       [2.86215308e+00, 5.81684212e+01],\n",
       "       [1.81852390e+00, 3.69732338e+01],\n",
       "       [6.85928417e-01, 1.52137871e+01],\n",
       "       [2.01510205e+00, 4.13074818e+01],\n",
       "       [1.85438472e+00, 3.75521198e+01],\n",
       "       [1.07448815e+00, 2.32889122e+01],\n",
       "       [3.40672777e-01, 7.58123797e+00],\n",
       "       [2.01471959e+00, 4.13814975e+01],\n",
       "       [1.56092310e+00, 3.30314063e+01],\n",
       "       [2.31695518e+00, 4.75875795e+01],\n",
       "       [1.56049050e+00, 3.14436061e+01],\n",
       "       [2.55654450e+00, 5.30105543e+01],\n",
       "       [1.65572052e+00, 3.43698264e+01],\n",
       "       [1.68281391e+00, 3.43260895e+01],\n",
       "       [2.62996081e+00, 5.28777603e+01],\n",
       "       [1.21044860e+00, 2.57970224e+01],\n",
       "       [4.02045685e-01, 9.28105922e+00],\n",
       "       [8.63480289e-02, 2.79388276e+00],\n",
       "       [2.26541177e+00, 4.70960205e+01],\n",
       "       [1.86092865e+00, 3.87957675e+01],\n",
       "       [2.11223930e+00, 4.25481358e+01],\n",
       "       [6.38892485e-01, 1.34012938e+01],\n",
       "       [4.09114427e-01, 8.67926681e+00],\n",
       "       [4.36339970e-02, 2.36057253e+00],\n",
       "       [1.05176268e+00, 2.11023184e+01],\n",
       "       [1.76975306e+00, 3.65348406e+01],\n",
       "       [1.17673214e+00, 2.50595601e+01],\n",
       "       [1.31242477e+00, 2.80020266e+01],\n",
       "       [2.71247608e+00, 5.49336852e+01],\n",
       "       [1.04476640e+00, 2.25378426e+01],\n",
       "       [1.54196847e+00, 3.10606328e+01],\n",
       "       [2.35095904e+00, 4.87120853e+01],\n",
       "       [1.18962835e+00, 2.40475443e+01],\n",
       "       [1.86626010e+00, 3.81197766e+01],\n",
       "       [2.58709113e+00, 5.33364133e+01],\n",
       "       [2.84856187e+00, 5.72710723e+01],\n",
       "       [4.41220443e-01, 9.28291165e+00],\n",
       "       [2.77976288e+00, 5.70397626e+01],\n",
       "       [1.47634888e+00, 3.09670507e+01],\n",
       "       [7.74733165e-01, 1.67769586e+01],\n",
       "       [1.37740727e+00, 2.89360423e+01],\n",
       "       [2.94009773e+00, 5.98874034e+01],\n",
       "       [1.47785428e+00, 3.00606838e+01],\n",
       "       [9.86254831e-01, 2.04164886e+01],\n",
       "       [1.90020256e+00, 3.83672467e+01],\n",
       "       [7.20436856e-01, 1.62256382e+01],\n",
       "       [2.27589984e-01, 5.71858328e+00],\n",
       "       [3.86639166e-01, 8.53448615e+00],\n",
       "       [3.84137517e-01, 8.60676194e+00],\n",
       "       [4.55708081e-01, 1.10087283e+01],\n",
       "       [4.16481518e-01, 8.63633317e+00],\n",
       "       [1.92262423e+00, 3.96249444e+01],\n",
       "       [5.45640253e-01, 1.19245824e+01],\n",
       "       [1.03700185e+00, 2.19629455e+01],\n",
       "       [2.69036523e+00, 5.38435250e+01],\n",
       "       [1.42188492e+00, 3.01819462e+01],\n",
       "       [2.00267322e+00, 4.19177009e+01],\n",
       "       [5.16959614e-01, 1.14694586e+01],\n",
       "       [5.76867056e-01, 1.29306428e+01],\n",
       "       [1.22605849e-01, 4.29711574e+00]])"
      ]
     },
     "execution_count": 5,
     "metadata": {},
     "output_type": "execute_result"
    }
   ],
   "source": [
    "x = 3 * np.random.rand(200)\n",
    "y = 20 * x + 2 * np.random.rand(200)\n",
    "x = x.reshape(-1,1)\n",
    "y = y.reshape(-1,1)\n",
    "np.concatenate((x,y), axis=1)"
   ]
  },
  {
   "cell_type": "code",
   "execution_count": 8,
   "metadata": {},
   "outputs": [
    {
     "data": {
      "text/plain": [
       "(200, 2)"
      ]
     },
     "execution_count": 8,
     "metadata": {},
     "output_type": "execute_result"
    }
   ],
   "source": [
    "xy = np.hstack([x,y])\n",
    "xy.shape"
   ]
  },
  {
   "cell_type": "code",
   "execution_count": 15,
   "metadata": {},
   "outputs": [
    {
     "data": {
      "text/plain": [
       "[<matplotlib.lines.Line2D at 0x2613b12af80>]"
      ]
     },
     "execution_count": 15,
     "metadata": {},
     "output_type": "execute_result"
    },
    {
     "data": {
      "image/png": "[encoded data removed]",
      "text/plain": [
       "<Figure size 432x288 with 1 Axes>"
      ]
     },
     "metadata": {
      "needs_background": "light"
     },
     "output_type": "display_data"
    }
   ],
   "source": [
    "fig = plt.gcf()\n",
    "plt.plot(xy[:,0], xy[:,1], '.')"
   ]
  },
  {
   "cell_type": "code",
   "execution_count": 19,
   "metadata": {},
   "outputs": [
    {
     "data": {
      "text/plain": [
       "[<matplotlib.lines.Line2D at 0x2613b705cf0>]"
      ]
     },
     "execution_count": 19,
     "metadata": {},
     "output_type": "execute_result"
    },
    {
     "data": {
      "image/png": "[encoded data removed]",
      "text/plain": [
       "<Figure size 432x288 with 1 Axes>"
      ]
     },
     "metadata": {
      "needs_background": "light"
     },
     "output_type": "display_data"
    }
   ],
   "source": [
    "xy_centrado = xy - np.mean(xy, axis=0)\n",
    "plt.plot(xy_centrado[:,0], xy_centrado[:,1], '.')"
   ]
  },
  {
   "cell_type": "code",
   "execution_count": 22,
   "metadata": {},
   "outputs": [
    {
     "name": "stdout",
     "output_type": "stream",
     "text": [
      "[[-0.99875917 -0.04980072]\n",
      " [ 0.04980072 -0.99875917]]\n"
     ]
    }
   ],
   "source": [
    "autovalores, autovectores = np.linalg.eig(xy_centrado.T @ xy_centrado)\n",
    "print(autovectores)"
   ]
  },
  {
   "cell_type": "code",
   "execution_count": 23,
   "metadata": {},
   "outputs": [],
   "source": [
    "from utils import *"
   ]
  },
  {
   "cell_type": "code",
   "execution_count": 38,
   "metadata": {},
   "outputs": [
    {
     "data": {
      "text/plain": [
       "(-1.5, 1.5)"
      ]
     },
     "execution_count": 38,
     "metadata": {},
     "output_type": "execute_result"
    },
    {
     "data": {
      "image/png": "[encoded data removed]",
      "text/plain": [
       "<Figure size 432x288 with 1 Axes>"
      ]
     },
     "metadata": {
      "needs_background": "light"
     },
     "output_type": "display_data"
    }
   ],
   "source": [
    "ax = plt.gca()\n",
    "graficarVector(ax, autovectores.T, ['blue', 'red'])\n",
    "_ = 20\n",
    "ax.plot(xy_centrado[:, 0], xy_centrado[:,1]/_, '.')\n",
    "ax.set_ylim(-30/_,30/_)\n",
    "ax.set_xlim(-1.5,1.5)"
   ]
  },
  {
   "cell_type": "code",
   "execution_count": 39,
   "metadata": {},
   "outputs": [],
   "source": [
    "xy_nuevo = autovectores.T @ xy_centrado.T"
   ]
  },
  {
   "cell_type": "code",
   "execution_count": 47,
   "metadata": {},
   "outputs": [
    {
     "data": {
      "text/plain": [
       "array([    0.15305398, 68136.86536512])"
      ]
     },
     "execution_count": 47,
     "metadata": {},
     "output_type": "execute_result"
    }
   ],
   "source": [
    "np.set_printoptions(suppress=True)\n",
    "autovalores"
   ]
  },
  {
   "cell_type": "code",
   "execution_count": 44,
   "metadata": {},
   "outputs": [
    {
     "data": {
      "text/plain": [
       "(-0.05412174023554186, 0.05900570178845512)"
      ]
     },
     "execution_count": 44,
     "metadata": {},
     "output_type": "execute_result"
    },
    {
     "data": {
      "image/png": "[encoded data removed]",
      "text/plain": [
       "<Figure size 432x288 with 1 Axes>"
      ]
     },
     "metadata": {
      "needs_background": "light"
     },
     "output_type": "display_data"
    }
   ],
   "source": [
    "ax = plt.gca()\n",
    "# graficarVector(ax, autovectores.T, ['blue', 'red'])\n",
    "ax.plot(xy_nuevo[0, :], xy_nuevo[1,:], '.')\n",
    "ax.set_ylim(auto=True)\n",
    "ax.set_xlim(auto=True)"
   ]
  }
 ],
 "metadata": {
  "kernelspec": {
   "display_name": "Python 3.10.4 ('ds')",
   "language": "python",
   "name": "python3"
  },
  "language_info": {
   "codemirror_mode": {
    "name": "ipython",
    "version": 3
   },
   "file_extension": ".py",
   "mimetype": "text/x-python",
   "name": "python",
   "nbconvert_exporter": "python",
   "pygments_lexer": "ipython3",
   "version": "3.10.5"
  },
  "orig_nbformat": 4,
  "vscode": {
   "interpreter": {
    "hash": "71dda1f36ff01dd8280b241c9bbd2200903794e3fcef25f2dfa7d2687b44f136"
   }
  }
 },
 "nbformat": 4,
 "nbformat_minor": 2
}
